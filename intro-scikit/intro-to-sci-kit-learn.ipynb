{
 "cells": [
  {
   "cell_type": "markdown",
   "id": "9a996e31",
   "metadata": {},
   "source": [
    "# Introduction to ScikitLearn (sklearn- indepth)\n",
    "This notebook demonstrates some of the most useful functions of the SKLean library"
   ]
  },
  {
   "cell_type": "code",
   "execution_count": 3,
   "id": "e8df3997",
   "metadata": {},
   "outputs": [
    {
     "data": {
      "text/plain": [
       "['0. An end-to-end sklearn workflow',\n",
       " '1. Getting the data ready',\n",
       " '2. Choose the right estimator/algorithm for our problems',\n",
       " '3. Fit the model/algorithm and use it to make predictions on our data',\n",
       " '4. Evaluating a model',\n",
       " '5. Improve the model',\n",
       " '6. Save and load the trained model',\n",
       " '7. Putting it all together!']"
      ]
     },
     "execution_count": 3,
     "metadata": {},
     "output_type": "execute_result"
    }
   ],
   "source": [
    "what_to_cover = [\n",
    "\"0. An end-to-end sklearn workflow\",\n",
    "\"1. Getting the data ready\",\n",
    "\"2. Choose the right estimator/algorithm for our problems\",\n",
    "\"3. Fit the model/algorithm and use it to make predictions on our data\",\n",
    "\"4. Evaluating a model\",\n",
    "\"5. Improve the model\",\n",
    "\"6. Save and load the trained model\",\n",
    "\"7. Putting it all together!\" ]\n",
    "what_to_cover"
   ]
  },
  {
   "cell_type": "code",
   "execution_count": null,
   "id": "24f138bd",
   "metadata": {},
   "outputs": [],
   "source": []
  }
 ],
 "metadata": {
  "kernelspec": {
   "display_name": "Python 3",
   "language": "python",
   "name": "python3"
  },
  "language_info": {
   "codemirror_mode": {
    "name": "ipython",
    "version": 3
   },
   "file_extension": ".py",
   "mimetype": "text/x-python",
   "name": "python",
   "nbconvert_exporter": "python",
   "pygments_lexer": "ipython3",
   "version": "3.8.8"
  }
 },
 "nbformat": 4,
 "nbformat_minor": 5
}
